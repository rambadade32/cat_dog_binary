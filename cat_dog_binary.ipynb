{
  "nbformat": 4,
  "nbformat_minor": 0,
  "metadata": {
    "accelerator": "TPU",
    "colab": {
      "name": "catdog_binary.ipynb",
      "provenance": [],
      "toc_visible": true
    },
    "kernelspec": {
      "display_name": "Python 3",
      "name": "python3"
    }
  },
  "cells": [
    {
      "cell_type": "markdown",
      "metadata": {
        "id": "ZhNcvzbGxblD"
      },
      "source": [
        "# Steps\r\n",
        "1.import required libraries\r\n",
        "\r\n",
        "2.Data preprocessing\r\n",
        "\r\n",
        "3.Building CNN model\r\n",
        "\r\n",
        "4.training on Training set and evaluating on test set\r\n",
        "\r\n",
        "5.making prediction on single image"
      ]
    },
    {
      "cell_type": "code",
      "metadata": {
        "id": "MAtJXfVKyY9B"
      },
      "source": [
        "# Importing Libraries"
      ],
      "execution_count": null,
      "outputs": []
    },
    {
      "cell_type": "code",
      "metadata": {
        "colab": {
          "base_uri": "https://localhost:8080/"
        },
        "id": "SfdTlcsKyfCa",
        "outputId": "a1407c71-d568-416d-f4fa-a1b2ee6e175c"
      },
      "source": [
        "import pandas as pd\r\n",
        "import numpy as np\r\n",
        "import tensorflow as tf\r\n",
        "print(\"tensorflow version :\",tf.__version__)\r\n",
        "print('GPU',\"(YESS AVAILABLE!!!!!)\" if tf.config.list_logical_devices(\"GPU\") else \"NOT Available :(\")"
      ],
      "execution_count": null,
      "outputs": [
        {
          "output_type": "stream",
          "text": [
            "tensorflow version : 2.4.0\n",
            "GPU NOT Available :(\n"
          ],
          "name": "stdout"
        }
      ]
    },
    {
      "cell_type": "code",
      "metadata": {
        "id": "7tI0gnk201ps"
      },
      "source": [
        "from keras.preprocessing.image import ImageDataGenerator"
      ],
      "execution_count": null,
      "outputs": []
    },
    {
      "cell_type": "code",
      "metadata": {
        "id": "NrSQHefuy0So"
      },
      "source": [
        "# Data preprocessing"
      ],
      "execution_count": null,
      "outputs": []
    },
    {
      "cell_type": "code",
      "metadata": {
        "colab": {
          "base_uri": "https://localhost:8080/"
        },
        "id": "q3TWGbHKzAdL",
        "outputId": "72f24826-1811-49e5-dd59-21c6bc7e1529"
      },
      "source": [
        "\r\n",
        "train_datagen = ImageDataGenerator(\r\n",
        "        rescale=1./255,\r\n",
        "        shear_range=0.2,\r\n",
        "        zoom_range=0.2,\r\n",
        "        horizontal_flip=True)\r\n",
        "\r\n",
        "training_set = train_datagen.flow_from_directory(\r\n",
        "        'drive/MyDrive/dataset/training_set',\r\n",
        "        target_size=(64, 64),\r\n",
        "        batch_size=32,\r\n",
        "        class_mode='binary')\r\n",
        "test_datagen = ImageDataGenerator(rescale=1./255)\r\n",
        "test_set = test_datagen.flow_from_directory(\r\n",
        "        'drive/MyDrive/dataset/test_set',\r\n",
        "        target_size=(64, 64),\r\n",
        "        batch_size=32,\r\n",
        "        class_mode='binary')"
      ],
      "execution_count": null,
      "outputs": [
        {
          "output_type": "stream",
          "text": [
            "Found 8000 images belonging to 2 classes.\n",
            "Found 1730 images belonging to 2 classes.\n"
          ],
          "name": "stdout"
        }
      ]
    },
    {
      "cell_type": "code",
      "metadata": {
        "id": "bPvMptvC2jB0"
      },
      "source": [
        "# building model\r\n",
        "\r\n",
        "cnn = tf.keras.models.Sequential()"
      ],
      "execution_count": null,
      "outputs": []
    },
    {
      "cell_type": "code",
      "metadata": {
        "id": "j6Tz9bR-F7h9"
      },
      "source": [
        "#adding convolution layer\r\n",
        "cnn.add(tf.keras.layers.Conv2D(filters=32,\r\n",
        "                               kernel_size=3,\r\n",
        "                               activation=\"relu\",\r\n",
        "                               input_shape = (64,64,3)))"
      ],
      "execution_count": null,
      "outputs": []
    },
    {
      "cell_type": "code",
      "metadata": {
        "id": "t0-rMlnwLld7"
      },
      "source": [
        "#adding pooling layer\r\n",
        "cnn.add(tf.keras.layers.MaxPool2D(strides=2))"
      ],
      "execution_count": null,
      "outputs": []
    },
    {
      "cell_type": "code",
      "metadata": {
        "id": "QCCwxcpLMcb1"
      },
      "source": [
        "#adding of second layer of convolution\r\n",
        "cnn.add(tf.keras.layers.Conv2D(filters=32,\r\n",
        "                               kernel_size=3,\r\n",
        "                               activation=\"relu\",\r\n",
        "                               input_shape = (64,64,3)))\r\n",
        "\r\n",
        "cnn.add(tf.keras.layers.MaxPool2D(strides=2))\r\n"
      ],
      "execution_count": null,
      "outputs": []
    },
    {
      "cell_type": "code",
      "metadata": {
        "id": "0rTWeaJxMx06"
      },
      "source": [
        "# Flattening\r\n",
        "cnn.add(tf.keras.layers.Flatten())"
      ],
      "execution_count": null,
      "outputs": []
    },
    {
      "cell_type": "code",
      "metadata": {
        "id": "cgpTA8-FNF2j"
      },
      "source": [
        "# Fully connected layer i.e. dense layer in ANN\r\n",
        "\r\n",
        "cnn.add(tf.keras.layers.Dense(units=128, activation=\"relu\"))"
      ],
      "execution_count": null,
      "outputs": []
    },
    {
      "cell_type": "code",
      "metadata": {
        "id": "xermQ5BTNeyY"
      },
      "source": [
        "# Output layer\r\n",
        "\r\n",
        "cnn.add(tf.keras.layers.Dense(units=1,activation='sigmoid'))"
      ],
      "execution_count": null,
      "outputs": []
    },
    {
      "cell_type": "code",
      "metadata": {
        "id": "JMM1w_m7OWd9"
      },
      "source": [
        "# compile\r\n",
        "\r\n",
        "cnn.compile(optimizer='adam',\r\n",
        "            loss='binary_crossentropy',\r\n",
        "            metrics=['accuracy'])"
      ],
      "execution_count": null,
      "outputs": []
    },
    {
      "cell_type": "code",
      "metadata": {
        "colab": {
          "background_save": true
        },
        "id": "mpVLtT0GOxeI"
      },
      "source": [
        "#Train on tets dataset\r\n",
        "\r\n",
        "cnn.fit(x = training_set,\r\n",
        "        validation_data = test_set,\r\n",
        "        batch_size=32,\r\n",
        "        epochs = 25)"
      ],
      "execution_count": null,
      "outputs": []
    },
    {
      "cell_type": "code",
      "metadata": {
        "id": "UhGkS7lnPbwL"
      },
      "source": [
        "# Making predictons on single images\r\n",
        "\r\n",
        "#we're going to look at keras\r\n",
        "\r\n",
        "import numpy as np\r\n",
        "from keras.preprocessing import image\r\n",
        "test_image = image.load_img('drive/MyDrive/Machine learning/dataset/single_prediction/cat_or_dog_2.jpg', target_size = (64, 64))\r\n",
        "test_image = image.img_to_array(test_image)\r\n",
        "test_image = np.expand_dims(test_image, axis = 0)\r\n",
        "result = cnn.predict(test_image)\r\n",
        "training_set.class_indices\r\n",
        "if result[0][0] == 1:\r\n",
        "    prediction = 'dog'\r\n",
        "else:\r\n",
        "    prediction = 'cat'\r\n"
      ],
      "execution_count": null,
      "outputs": []
    },
    {
      "cell_type": "code",
      "metadata": {
        "colab": {
          "base_uri": "https://localhost:8080/"
        },
        "id": "vsBH1l2tA58o",
        "outputId": "ca568d8f-e2c2-4ae0-936a-8381fd3c908d"
      },
      "source": [
        "print(prediction)"
      ],
      "execution_count": null,
      "outputs": [
        {
          "output_type": "stream",
          "text": [
            "dog\n"
          ],
          "name": "stdout"
        }
      ]
    }
  ]
}